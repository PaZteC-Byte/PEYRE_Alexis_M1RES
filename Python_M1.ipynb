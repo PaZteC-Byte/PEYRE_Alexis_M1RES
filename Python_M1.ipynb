{
  "nbformat": 4,
  "nbformat_minor": 0,
  "metadata": {
    "kernelspec": {
      "display_name": "Python 3",
      "language": "python",
      "name": "python3"
    },
    "language_info": {
      "codemirror_mode": {
        "name": "ipython",
        "version": 3
      },
      "file_extension": ".py",
      "mimetype": "text/x-python",
      "name": "python",
      "nbconvert_exporter": "python",
      "pygments_lexer": "ipython3",
      "version": "3.7.6"
    },
    "colab": {
      "name": "Python_M1.ipynb",
      "provenance": [],
      "collapsed_sections": [
        "laJns1B3Utp0",
        "bOVKcoBUUtsS"
      ]
    }
  },
  "cells": [
    {
      "cell_type": "markdown",
      "metadata": {
        "id": "A6zi718rUtnC"
      },
      "source": [
        "# TD1 :"
      ]
    },
    {
      "cell_type": "markdown",
      "metadata": {
        "id": "yK5ILyYEUtoC"
      },
      "source": [
        "exo 1 :"
      ]
    },
    {
      "cell_type": "code",
      "metadata": {
        "id": "rppbBcLpUtoL"
      },
      "source": [
        "x = 10\n",
        "y = 3\n",
        "z = x - y \n",
        "print (z)"
      ],
      "execution_count": null,
      "outputs": []
    },
    {
      "cell_type": "code",
      "metadata": {
        "id": "wWYy65FyUtoX"
      },
      "source": [
        "x = 10\n",
        "y = 3\n",
        "z = 1 \n",
        "print (x + y - z)"
      ],
      "execution_count": null,
      "outputs": []
    },
    {
      "cell_type": "code",
      "metadata": {
        "id": "wlKnLTMZUton",
        "outputId": "612de77c-19c1-410d-cad6-42ec322905be"
      },
      "source": [
        "x = 10\n",
        "y = 3\n",
        "z = 1 \n",
        "print (x * y / z)"
      ],
      "execution_count": null,
      "outputs": [
        {
          "output_type": "stream",
          "text": [
            "30.0\n"
          ],
          "name": "stdout"
        }
      ]
    },
    {
      "cell_type": "code",
      "metadata": {
        "id": "F4dQviwUUtox",
        "outputId": "9eb8690b-11fa-4886-c8ee-b3dbaed1c875"
      },
      "source": [
        "x = 10\n",
        "y = 3\n",
        "z = 1 \n",
        "print (x ** y / z)"
      ],
      "execution_count": null,
      "outputs": [
        {
          "output_type": "stream",
          "text": [
            "1000.0\n"
          ],
          "name": "stdout"
        }
      ]
    },
    {
      "cell_type": "code",
      "metadata": {
        "id": "Fm68HcW1Uto3",
        "outputId": "e05f7599-ecd9-4fdf-876e-53c91e8bbeed"
      },
      "source": [
        "x = 10\n",
        "y = 3\n",
        "z = 1 \n",
        "print (x % y ** 2)"
      ],
      "execution_count": null,
      "outputs": [
        {
          "output_type": "stream",
          "text": [
            "1\n"
          ],
          "name": "stdout"
        }
      ]
    },
    {
      "cell_type": "markdown",
      "metadata": {
        "id": "-KxUVCT8UtpC"
      },
      "source": [
        "exo 2 :"
      ]
    },
    {
      "cell_type": "code",
      "metadata": {
        "id": "eCo7v2MpUtpI",
        "outputId": "8828957d-1010-457f-88ed-4eabe338ec66"
      },
      "source": [
        "nom = \"peyre\"\n",
        "prenom = \"alexis\"\n",
        "print(( nom + \" \" + prenom + \" \" ) * 2 )"
      ],
      "execution_count": null,
      "outputs": [
        {
          "output_type": "stream",
          "text": [
            "peyre alexis peyre alexis \n"
          ],
          "name": "stdout"
        }
      ]
    },
    {
      "cell_type": "markdown",
      "metadata": {
        "id": "2NKlln2bUtpR"
      },
      "source": [
        "exo 3 :"
      ]
    },
    {
      "cell_type": "code",
      "metadata": {
        "id": "S8deyFWiUtpW",
        "outputId": "408230e0-5657-4ee3-ca58-63784348b305"
      },
      "source": [
        "bool1 = 'true'\n",
        "bool2 = 'fasle'\n",
        "boolsome = bool1 <= bool2\n",
        "print(boolsome)"
      ],
      "execution_count": null,
      "outputs": [
        {
          "output_type": "stream",
          "text": [
            "False\n"
          ],
          "name": "stdout"
        }
      ]
    },
    {
      "cell_type": "markdown",
      "metadata": {
        "id": "A6k3SwsSUtpi"
      },
      "source": [
        "exo 4 :"
      ]
    },
    {
      "cell_type": "code",
      "metadata": {
        "id": "2O-mpYZrUtpl"
      },
      "source": [
        ""
      ],
      "execution_count": null,
      "outputs": []
    },
    {
      "cell_type": "markdown",
      "metadata": {
        "id": "ZAwFRnNyUtpn"
      },
      "source": [
        "exo 5 :"
      ]
    },
    {
      "cell_type": "code",
      "metadata": {
        "id": "WmBlB57aUtpp"
      },
      "source": [
        ""
      ],
      "execution_count": null,
      "outputs": []
    },
    {
      "cell_type": "markdown",
      "metadata": {
        "id": "o28ivX0eUtps"
      },
      "source": [
        "exo 6 : cassé ne pas lancer"
      ]
    },
    {
      "cell_type": "code",
      "metadata": {
        "id": "mjVCP__zUtpu"
      },
      "source": [
        "\n",
        "#Celsius = float(input(\"Enter a temperature in Celsius: \"))\n",
        "\n",
        "#Fahrenheit = (9.0/5.0) * Celsius + 32\n",
        "\n",
        "#print(\"Temperature:\", Celsius, \"Celsius = \", Fahrenheit, \" F\")\n",
        "#Fahrenheit = float(input(\"Enter a temperature in Fahrenheit: \"))\n",
        "\n",
        "#Celsius = (Fahrenheit - 32) * 5.0/9.0\n",
        "\n",
        "#print(\"Temperature:\", Fahrenheit, \"Fahrenheit = \", Celsius, \" C\")"
      ],
      "execution_count": null,
      "outputs": []
    },
    {
      "cell_type": "markdown",
      "metadata": {
        "id": "T0u32EYpUtpx"
      },
      "source": [
        "exo 7 :"
      ]
    },
    {
      "cell_type": "code",
      "metadata": {
        "id": "Xlm2EFkMUtpx",
        "outputId": "debc1083-d465-4ddd-c72c-f57033444414"
      },
      "source": [
        "A=input('Entrer une valeur de verite pour A: (entrer False ou True)')\n",
        "B=input('Entrer une valeur de verite pour B: (entrer False ou True)')\n",
        "C=input('Entrer une valeur de verite pour C: (entrer False ou True)')\n",
        "\n",
        "expression_bol=input('Entrer une expression Bolenne avec des \"non\", \"ou\", \"et\", et des parentheses:')\n",
        "expression_bol.replace('non', 'not')\n",
        "expression_bol.replace('et', 'and')\n",
        "expression_bol.replace('ou', 'or')\n",
        "print (bool(expression_bol))"
      ],
      "execution_count": null,
      "outputs": [
        {
          "output_type": "stream",
          "text": [
            "Entrer une valeur de verite pour A: (entrer False ou True)true\n",
            "Entrer une valeur de verite pour B: (entrer False ou True)true\n",
            "Entrer une valeur de verite pour C: (entrer False ou True)false\n",
            "Entrer une expression Bolenne avec des \"non\", \"ou\", \"et\", et des parentheses:ou\n",
            "True\n"
          ],
          "name": "stdout"
        }
      ]
    },
    {
      "cell_type": "markdown",
      "metadata": {
        "id": "laJns1B3Utp0"
      },
      "source": [
        "# #___________________________________________________________"
      ]
    },
    {
      "cell_type": "markdown",
      "metadata": {
        "id": "8Zmp22FOUtp1"
      },
      "source": [
        "# TD 2 :"
      ]
    },
    {
      "cell_type": "markdown",
      "metadata": {
        "id": "EbTwu0txUtp2"
      },
      "source": [
        "exo 1 (1-2) :"
      ]
    },
    {
      "cell_type": "code",
      "metadata": {
        "id": "KWmVTv3qUtp5",
        "outputId": "e3f03ee5-b3bc-421d-9e7c-f22b3820b5fe"
      },
      "source": [
        "valeur = \"X44bf38j23jdjgfjh737nei47\"\n",
        "valeur_numero = \"\"\n",
        "valeur_lettre = \"\"\n",
        "for symboles in valeur:\n",
        "    if str.isdigit(symboles) == True:\n",
        "        valeur_numero += symboles\n",
        "    else:\n",
        "        valeur_lettre += symboles\n",
        "\n",
        "print(valeur_numero, valeur_lettre)"
      ],
      "execution_count": null,
      "outputs": [
        {
          "output_type": "stream",
          "text": [
            "44382373747 Xbfjjdjgfjhnei\n"
          ],
          "name": "stdout"
        }
      ]
    },
    {
      "cell_type": "markdown",
      "metadata": {
        "id": "r2CvLiYIUtp6"
      },
      "source": [
        "exo 1 (3) :"
      ]
    },
    {
      "cell_type": "code",
      "metadata": {
        "id": "R-BJ8YfeUtqA",
        "outputId": "0d68457d-4a6d-417e-ca1e-8c7c749cc99e"
      },
      "source": [
        "str_find = \"j23\"\n",
        "valeur.find(str_find)\n",
        "if valeur.find(str_find) != -1:\n",
        "    nouvelle_valeur = valeur.replace(str_find, \"j24\")\n",
        "    print(nouvelle_valeur)"
      ],
      "execution_count": null,
      "outputs": [
        {
          "output_type": "stream",
          "text": [
            "X44bf38j24jdjgfjh737nei47\n"
          ],
          "name": "stdout"
        }
      ]
    },
    {
      "cell_type": "markdown",
      "metadata": {
        "id": "WMxKcFbpUtqH"
      },
      "source": [
        "exo 1 (4) :"
      ]
    },
    {
      "cell_type": "code",
      "metadata": {
        "id": "u-hOy2O1UtqK",
        "outputId": "986f4248-d4bc-498b-ff2e-29f9b3d52ed0"
      },
      "source": [
        "list = [\"f\",\"3\",\"7\"]\n",
        "for string in list:\n",
        "    premierevaleur = valeur.find(string)\n",
        "    print(premierevaleur)\n",
        "\n",
        "print(\"\\n\")"
      ],
      "execution_count": null,
      "outputs": [
        {
          "output_type": "stream",
          "text": [
            "4\n",
            "5\n",
            "17\n",
            "\n",
            "\n"
          ],
          "name": "stdout"
        }
      ]
    },
    {
      "cell_type": "markdown",
      "metadata": {
        "id": "uMQMyh9SUtqN"
      },
      "source": [
        "exo 2 (1) :"
      ]
    },
    {
      "cell_type": "code",
      "metadata": {
        "id": "MLZ71XxiUtqQ",
        "outputId": "4e3f3847-17e3-4cdc-a2d0-0254f20b2938"
      },
      "source": [
        "txt = \"We introduce here the Python language\"\n",
        "compteur = 0\n",
        "for lettres in txt:\n",
        "    compteur += 1\n",
        "if compteur == len(txt):\n",
        "    print(\"good\")\n",
        "else:\n",
        "    print(\"not good\")\n",
        "\n",
        "compteur_lettres = 0\n",
        "for lettres in txt:\n",
        "    if lettres == \" \":\n",
        "        pass #saute les espaces\n",
        "    else:\n",
        "        compteur_lettres += 1\n",
        "print(compteur_lettres) #affiche le nombres de lettres dans le texte\n",
        "\n",
        "mots = len(txt.split())  \n",
        "\n",
        "print(mots) #affiche le nombre de mots "
      ],
      "execution_count": null,
      "outputs": [
        {
          "output_type": "stream",
          "text": [
            "good\n",
            "32\n",
            "6\n"
          ],
          "name": "stdout"
        }
      ]
    },
    {
      "cell_type": "markdown",
      "metadata": {
        "id": "-u6sEvjiUtqT"
      },
      "source": [
        "exo 2 (2) :"
      ]
    },
    {
      "cell_type": "code",
      "metadata": {
        "id": "JiD4lXKYUtqU",
        "outputId": "85a2b79c-229f-4f38-9ce6-7e8e678dd4bb"
      },
      "source": [
        "txt2 = \"We introduce here the Python language. To learn more about the language, \\\n",
        "consider going through the excellent tutorial https://docs.python.org/ \\\n",
        "tutorial. Dedicated books are also available, such as \\\n",
        "http://www.diveintopython.net/.\"\n",
        "\n",
        "compteur_lettres = 0\n",
        "for lettres in txt2:\n",
        "    if lettres == \" \":\n",
        "        pass #saute les espaces\n",
        "    else:\n",
        "        compteur_lettres += 1\n",
        "print(compteur_lettres) #affiche le nombres de lettres dans le texte\n",
        "\n",
        "mots = len(txt2.split())\n",
        "\n",
        "print(mots) #affiche le nombre de mots"
      ],
      "execution_count": null,
      "outputs": [
        {
          "output_type": "stream",
          "text": [
            "202\n",
            "28\n"
          ],
          "name": "stdout"
        }
      ]
    },
    {
      "cell_type": "markdown",
      "metadata": {
        "id": "3q7LpMYQUtqX"
      },
      "source": [
        "exo 3 (1-2) :"
      ]
    },
    {
      "cell_type": "code",
      "metadata": {
        "id": "OQqKEYQ1Utqc",
        "outputId": "61463fff-9689-4cb3-97d2-4db6d0e79231"
      },
      "source": [
        "n = input(\"Tapez une phrase avec espaces entre chaque mots : \")\n",
        "user_list = n.split()\n",
        "list_trie = sorted(user_list) \n",
        "print(list_trie)"
      ],
      "execution_count": null,
      "outputs": [
        {
          "output_type": "stream",
          "text": [
            "Tapez une phrase avec espaces entre chaque mots : je test cette phrase\n",
            "['cette', 'je', 'phrase', 'test']\n"
          ],
          "name": "stdout"
        }
      ]
    },
    {
      "cell_type": "markdown",
      "metadata": {
        "id": "SKodnx32Utqk"
      },
      "source": [
        "exo 4 (1-3) :"
      ]
    },
    {
      "cell_type": "code",
      "metadata": {
        "id": "jN2VnUu6Utqo",
        "outputId": "8413958c-d32a-47c2-e751-7f73c4d38651"
      },
      "source": [
        "from random import *; \n",
        "\n",
        "Couleurs= [\"♠ Pique\",\"♣ Trefle\",\"♦ Carreau\",\"♥ Coeur\"]\n",
        "valeurs= [2,3,4,5,6,7,8,9,10,\"Valet\",\"Dame\",\"Roi\",\"As\"]\n",
        "paquet = []\n",
        "joueur_1 = []\n",
        "joueur_2 = []\n",
        "joueur_3 = []\n",
        "joueur_4 = []\n",
        "\n",
        "for C in Couleurs: #boucle for de navigation pour les couleurs\n",
        "    for v in valeurs: #boucle for de navigation pour les noms de cartes\n",
        "        carte = str(C) + \" \" + str(v) #assemblage des variables listé dans Couleurs et Valeurs\n",
        "        paquet.append(carte)\n",
        "\n",
        "shuffle(paquet) #mélange du paquet\n",
        "\n",
        "for carte_par_joueur in range(13): #boucle de distribution (13) = nb de carte par joueurs\n",
        "    joueur_1.append(paquet[carte_par_joueur]) #13 premiere carte\n",
        "    joueur_2.append(paquet[carte_par_joueur + 13])#décale de 13 cartes dans le paquet\n",
        "    joueur_3.append(paquet[carte_par_joueur + 26])#décale de 26 cartes dans le paquet\n",
        "    joueur_4.append(paquet[carte_par_joueur + 39])#décale de 39 cartes dans le paquet\n",
        "\n",
        "print(\" Joueur 1 = \" + str(joueur_1))\n",
        "print(\" Joueur 2 = \" + str(joueur_2))\n",
        "print(\" Joueur 3 = \" + str(joueur_3))\n",
        "print(\" Joueur 4 = \" + str(joueur_4))\n"
      ],
      "execution_count": null,
      "outputs": [
        {
          "output_type": "stream",
          "text": [
            " Joueur 1 = ['♦ Carreau 5', '♣ Trefle 6', '♠ Pique As', '♠ Pique 6', '♦ Carreau 8', '♠ Pique Roi', '♥ Coeur 9', '♦ Carreau Valet', '♦ Carreau 3', '♥ Coeur 6', '♣ Trefle 2', '♣ Trefle 10', '♠ Pique 4']\n",
            " Joueur 2 = ['♣ Trefle 4', '♥ Coeur 8', '♠ Pique Valet', '♦ Carreau 7', '♠ Pique 9', '♥ Coeur 7', '♠ Pique 7', '♠ Pique 8', '♥ Coeur 4', '♥ Coeur 5', '♣ Trefle 5', '♦ Carreau As', '♥ Coeur 10']\n",
            " Joueur 3 = ['♣ Trefle 9', '♠ Pique 10', '♥ Coeur As', '♦ Carreau 2', '♦ Carreau 4', '♥ Coeur 3', '♦ Carreau Dame', '♠ Pique 3', '♠ Pique Dame', '♦ Carreau Roi', '♦ Carreau 9', '♥ Coeur Valet', '♣ Trefle 7']\n",
            " Joueur 4 = ['♥ Coeur Dame', '♣ Trefle Valet', '♦ Carreau 10', '♦ Carreau 6', '♣ Trefle Roi', '♣ Trefle 3', '♣ Trefle Dame', '♥ Coeur Roi', '♣ Trefle 8', '♥ Coeur 2', '♠ Pique 5', '♣ Trefle As', '♠ Pique 2']\n"
          ],
          "name": "stdout"
        }
      ]
    },
    {
      "cell_type": "markdown",
      "metadata": {
        "id": "Qd0PwODtUtqs"
      },
      "source": [
        "exo 5 :"
      ]
    },
    {
      "cell_type": "code",
      "metadata": {
        "id": "F_xEokNrUtqv",
        "outputId": "df7e57fa-78ee-4082-b2d4-15b11d402d8b"
      },
      "source": [
        "# (1)\n",
        "with open('diamonds.csv', 'r') as cs: #appel au csv sous le nom de cs\n",
        "    diamants = cs.readlines() \n",
        "    print(len(diamants)) #nb de diamants dans la liste\n",
        "    print(diamants[0:3]) #affiche les trois premieres lignes du csv\n",
        "\n",
        "# (2)\n",
        "num_ligne = 0\n",
        "for lignes in diamants:\n",
        "    num_ligne += 1\n",
        "    final = lignes.split(\",\")\n",
        "    #print(final, num_ligne) #test de visualisation du numéro de ligne\n",
        "cs.close() #fermeture de l'appel cvs"
      ],
      "execution_count": null,
      "outputs": [
        {
          "output_type": "stream",
          "text": [
            "53941\n",
            "['\"carat\",\"cut\",\"color\",\"depth\",\"price\",\"x\",\"y\",\"z\"\\n', '\"0.23\",\"Ideal\",\"E\",\"61.5\",\"326\",\"3.95\",\"3.98\",\"2.43\"\\n', '\"0.21\",\"Premium\",\"E\",\"59.8\",\"326\",\"3.89\",\"3.84\",\"2.31\"\\n']\n"
          ],
          "name": "stdout"
        }
      ]
    },
    {
      "cell_type": "code",
      "metadata": {
        "id": "BZ4ZoZrmUtqy"
      },
      "source": [
        "with open('diamonds.csv', 'r') as cs: #appel au csv sous le nom de cs\n",
        "    diamants_100 = [next(cs) for i in range(100)] #\"\"[next(f) for i in range(100)]\"\" permet de ne selectionner que les 100 premiers diamants de la liste\n",
        "    #print(diamants_100[0:20]) #affiche les 20 premiers diamants\n",
        "cs.close() #fermeture de l'appel cvs"
      ],
      "execution_count": null,
      "outputs": []
    },
    {
      "cell_type": "code",
      "metadata": {
        "id": "Uk2Tg7KCUtq1",
        "outputId": "d0201393-f911-435c-b3a2-d41794a6b7d4"
      },
      "source": [
        "with open('diamonds.csv', 'r') as cs: #appel au csv sous le nom de cs\n",
        "    diamants_prix = [] #futur list des prix des 100 premiers diamants \n",
        "    diamants = cs.readlines() #récupère le nombre de lignes de données dans le csv\n",
        "    for lignes in diamants: \n",
        "        donnees = lignes.split(\",\")\n",
        "        donnees = [i.replace('\"', '').replace(\"\\n\", \"\") for i in donnees]\n",
        "        try:\n",
        "            diamants_prix += [float(donnees[4])]\n",
        "        except ValueError: #si la valeur est null ou non renseigné, la valeur n'est pas pris en compte\n",
        "            pass\n",
        "cs.close() #fermeture e l'appel cvs\n",
        "\n",
        "print(diamants_prix[0:20]) #affichage des 20 premiers prix de diamants"
      ],
      "execution_count": null,
      "outputs": [
        {
          "output_type": "stream",
          "text": [
            "[326.0, 326.0, 327.0, 334.0, 335.0, 336.0, 336.0, 337.0, 337.0, 338.0, 339.0, 340.0, 342.0, 344.0, 345.0, 345.0, 348.0, 351.0, 351.0, 351.0]\n"
          ],
          "name": "stdout"
        }
      ]
    },
    {
      "cell_type": "markdown",
      "metadata": {
        "id": "Ty34pMUTUtq5"
      },
      "source": [
        "exo 6 (1-3)"
      ]
    },
    {
      "cell_type": "code",
      "metadata": {
        "id": "cZI9xr54Utq9",
        "outputId": "67cb6f98-5325-4d98-f317-900d9135ec3b"
      },
      "source": [
        "values = input(\"Veuillez rentrer votre prénom, nom et matricule d'étudiant séparés par des espaces : \")\n",
        "liste = values.split(\" \")\n",
        "#tuple = tuple(liste)\n",
        "print(tuple)\n",
        "liste_entiere = []"
      ],
      "execution_count": null,
      "outputs": [
        {
          "output_type": "stream",
          "text": [
            "Veuillez rentrer votre prénom, nom et matricule d'étudiant séparés par des espaces : test1 test1 10\n",
            "<class 'tuple'>\n"
          ],
          "name": "stdout"
        }
      ]
    },
    {
      "cell_type": "code",
      "metadata": {
        "id": "n1iGMILvUtrC",
        "outputId": "6b3f1445-ccbe-4eb6-d3ae-084808ae65fa"
      },
      "source": [
        "#(2)\n",
        "#tuple = tuple(liste)\n",
        "while True: #tant que l'utilisateur ne rentre pas FIN la boucle continue de remplir le Tuple\n",
        "    choix = input(\"Veuillez rentrer votre prénom, nom et matricule d'étudiant séparés par des espaces :(Entrer 'FIN' pour finir la saisie)\")\n",
        "    if choix == \"FIN\":\n",
        "         break\n",
        "    else:\n",
        "        liste = choix.split(\" \")\n",
        "        montuple = tuple(liste)\n",
        "        liste_entiere.append(montuple)\n"
      ],
      "execution_count": null,
      "outputs": [
        {
          "output_type": "stream",
          "text": [
            "Veuillez rentrer votre prénom, nom et matricule d'étudiant séparés par des espaces :(Entrer 'FIN' pour finir la saisie)test1 test1 11\n",
            "Veuillez rentrer votre prénom, nom et matricule d'étudiant séparés par des espaces :(Entrer 'FIN' pour finir la saisie)test2 test2 12\n",
            "Veuillez rentrer votre prénom, nom et matricule d'étudiant séparés par des espaces :(Entrer 'FIN' pour finir la saisie)test3 test3 13\n",
            "Veuillez rentrer votre prénom, nom et matricule d'étudiant séparés par des espaces :(Entrer 'FIN' pour finir la saisie)FIN\n"
          ],
          "name": "stdout"
        }
      ]
    },
    {
      "cell_type": "code",
      "metadata": {
        "id": "qwLThV6AUtrK",
        "outputId": "89e34ef7-a32b-46db-bf7a-750dde8b190c"
      },
      "source": [
        "#(3)\n",
        "print(\"___________________________________________________\")\n",
        "for etudiant in liste_entiere:\n",
        "    print(\"| Matricule : \" + etudiant[2] + \" | Mme/Mr : \" + etudiant[1] + \" \" + etudiant[0] +\" \")\n",
        "print(\"___________________________________________________\")"
      ],
      "execution_count": null,
      "outputs": [
        {
          "output_type": "stream",
          "text": [
            "___________________________________________________\n",
            "| Matricule : 11 | Mme/Mr : test1 test1 \n",
            "| Matricule : 12 | Mme/Mr : test2 test2 \n",
            "| Matricule : 13 | Mme/Mr : test3 test3 \n",
            "___________________________________________________\n"
          ],
          "name": "stdout"
        }
      ]
    },
    {
      "cell_type": "markdown",
      "metadata": {
        "id": "1ZbgvGBeUtrQ"
      },
      "source": [
        "exo 7 (1-3)"
      ]
    },
    {
      "cell_type": "code",
      "metadata": {
        "id": "sqtKGfFyUtrT",
        "outputId": "b6a71867-c32d-41a3-a063-3af5561d1342"
      },
      "source": [
        "fr_en = {\n",
        "    \"ordinateur\": \"computer\",\n",
        "    \"clavier\": \"keyboard\",\n",
        "    \"Tasse\": \"mug\",\n",
        "    \"cerveau\": \"brain\"\n",
        "    }\n",
        "for cle, valeur in fr_en.items():\n",
        "    if cle == \"cerveau\": #si la clé est égale à \"mot en français\" il retourne la valeur \n",
        "        print(valeur)\n",
        "    else:\n",
        "        pass"
      ],
      "execution_count": null,
      "outputs": [
        {
          "output_type": "stream",
          "text": [
            "brain\n"
          ],
          "name": "stdout"
        }
      ]
    },
    {
      "cell_type": "code",
      "metadata": {
        "id": "SkhEXFuSUtrX",
        "outputId": "51f1ee95-75ab-4bcc-e4a2-1f2e1636b1c3"
      },
      "source": [
        "en_fr = {}\n",
        "for cle, valeur in fr_en.items():\n",
        "    en_fr[valeur] = cle  # assigne cette cle cette valeur\n",
        "print(en_fr)"
      ],
      "execution_count": null,
      "outputs": [
        {
          "output_type": "stream",
          "text": [
            "{'computer': 'ordinateur', 'keyboard': 'clavier', 'mug': 'Tasse', 'brain': 'cerveau'}\n"
          ],
          "name": "stdout"
        }
      ]
    },
    {
      "cell_type": "code",
      "metadata": {
        "id": "cZ4q98fwUtre",
        "outputId": "105c455b-762a-4ba5-b1bd-035c46f8d71b"
      },
      "source": [
        "if \"allo\" in (en_fr): # par défaut dans les clés pour values .values\n",
        "    print(\"est présent dans le dictionnaire\")\n",
        "else :\n",
        "    print(\"n'est pas présent dans le dictionnaire\")"
      ],
      "execution_count": null,
      "outputs": [
        {
          "output_type": "stream",
          "text": [
            "n'est pas présent dans le dictionnaire\n"
          ],
          "name": "stdout"
        }
      ]
    },
    {
      "cell_type": "code",
      "metadata": {
        "id": "2Xyn5rDGUtrk",
        "outputId": "07ef65e8-34ed-4508-aab4-cfb65c909ea7"
      },
      "source": [
        "for cle, values in en_fr.items():\n",
        "    if en_fr[cle] == \"cerveau\":\n",
        "        print(\"Anglais = \" + cle, \"| Français = \" + values)\n"
      ],
      "execution_count": null,
      "outputs": [
        {
          "output_type": "stream",
          "text": [
            "Anglais = brain | Français = cerveau\n"
          ],
          "name": "stdout"
        }
      ]
    },
    {
      "cell_type": "code",
      "metadata": {
        "id": "XtjwMfxPUtru",
        "outputId": "818b4a7b-f973-410a-8eaf-5bcf2eb79b0b"
      },
      "source": [
        "new = {\n",
        "    \"ordinateur\": [\"computer\", \"PC\"],\n",
        "    \"clavier\": [\"keyboard\", \"keypad\"],\n",
        "    \"tasse\": [\"mug\", \"cup\"],\n",
        "    \"cerveau\": [\"brain\", \"cerebral\"],\n",
        "    \"chemin\" : [\"path\", \"way\"]\n",
        "    }\n",
        "\n",
        "for cle, values in new.items():\n",
        "    if cle == \"clavier\":\n",
        "        print (\"la deuxième traduction de clavier est : \" + values[1])#Affichage de la deuxieme traduction\n",
        "\n",
        "del new[\"clavier\"] #drop du mot clavier du dictionnaire\n",
        "\n",
        "print (\"vérification de suppréssion du mot clavier du dictionnaire\")\n",
        "print(new)"
      ],
      "execution_count": null,
      "outputs": [
        {
          "output_type": "stream",
          "text": [
            "la deuxième traduction de clavier est : keypad\n",
            "vérification de suppréssion du mot clavier du dictionnaire\n",
            "{'ordinateur': ['computer', 'PC'], 'tasse': ['mug', 'cup'], 'cerveau': ['brain', 'cerebral'], 'chemin': ['path', 'way']}\n"
          ],
          "name": "stdout"
        }
      ]
    },
    {
      "cell_type": "markdown",
      "metadata": {
        "id": "nBvGeSTsUtrz"
      },
      "source": [
        "exo 8 (1-2)"
      ]
    },
    {
      "cell_type": "code",
      "metadata": {
        "id": "wSCmdnRuUtr7",
        "outputId": "14a2987b-0e7e-4c01-e5e0-03e754d99753"
      },
      "source": [
        "etudiant = {}\n",
        "\n",
        "while True:\n",
        "    choix = input(\"Entrer prenom, nom et matricule étudiant séparés par un espace : (FIN pour finir) \")\n",
        "    if choix == \"FIN\":\n",
        "         break\n",
        "    else:\n",
        "        list = choix.split(\" \")\n",
        "        montuple = tuple(list)\n",
        "        count = 0\n",
        "        for cle in etudiant.keys():\n",
        "            if montuple[1] in cle:\n",
        "                count += 1\n",
        "        if count > 0:\n",
        "            new_key = montuple[1] + str(count)\n",
        "            etudiant[new_key] = montuple\n",
        "        else:\n",
        "            etudiant[montuple[1]] = montuple\n",
        "            \n",
        "print(etudiant)\n",
        "\n",
        "\n"
      ],
      "execution_count": null,
      "outputs": [
        {
          "output_type": "stream",
          "text": [
            "Entrer prenom, nom et matricule étudiant séparés par un espace : (FIN pour finir) Test1 test1 11\n",
            "Entrer prenom, nom et matricule étudiant séparés par un espace : (FIN pour finir) Test2 test2 12\n",
            "Entrer prenom, nom et matricule étudiant séparés par un espace : (FIN pour finir) Test3 test3 13\n",
            "Entrer prenom, nom et matricule étudiant séparés par un espace : (FIN pour finir) FIN\n",
            "{'test1': ('Test1', 'test1', '11'), 'test2': ('Test2', 'test2', '12'), 'test3': ('Test3', 'test3', '13')}\n"
          ],
          "name": "stdout"
        }
      ]
    },
    {
      "cell_type": "markdown",
      "metadata": {
        "id": "XUFnZI1EUtr9"
      },
      "source": [
        "exo 8 (3)"
      ]
    },
    {
      "cell_type": "code",
      "metadata": {
        "id": "MDoOQs3dUtr_",
        "outputId": "984d7a63-e28e-4a1d-d604-74b3b0fbc7f2"
      },
      "source": [
        "for keys in etudiant.keys():\n",
        "    print(\"Nom étudiant : \" + keys)\n",
        "\n"
      ],
      "execution_count": null,
      "outputs": [
        {
          "output_type": "stream",
          "text": [
            "Nom étudiant : test1\n",
            "Nom étudiant : test2\n",
            "Nom étudiant : test3\n"
          ],
          "name": "stdout"
        }
      ]
    },
    {
      "cell_type": "markdown",
      "metadata": {
        "id": "YmAgk9UTUtsJ"
      },
      "source": [
        "exo 8 (4)"
      ]
    },
    {
      "cell_type": "code",
      "metadata": {
        "id": "PpzFBT0nUtsN",
        "outputId": "e101a208-3e6c-4bb0-f94d-0bcba21d1490"
      },
      "source": [
        "if \"Obama\" in (etudiant):\n",
        "    print(etudiant[\"Obama\"])\n",
        "else :\n",
        "    print (\"c'est qui encore celui ci\")\n"
      ],
      "execution_count": null,
      "outputs": [
        {
          "output_type": "stream",
          "text": [
            "c'est qui encore celui ci\n"
          ],
          "name": "stdout"
        }
      ]
    },
    {
      "cell_type": "markdown",
      "metadata": {
        "id": "w3WigdZQUtsP"
      },
      "source": [
        "exo 8 (5)"
      ]
    },
    {
      "cell_type": "code",
      "metadata": {
        "id": "8UXLHeFDUtsR"
      },
      "source": [
        "for cle, values in etudiant.items():\n",
        "    if values[2] == \"20\":\n",
        "        print(\"cle \" + str(cle), \"valeur \" + str(values))"
      ],
      "execution_count": null,
      "outputs": []
    },
    {
      "cell_type": "markdown",
      "metadata": {
        "id": "bOVKcoBUUtsS"
      },
      "source": [
        "# #___________________________________________________________"
      ]
    },
    {
      "cell_type": "markdown",
      "metadata": {
        "id": "RLUCz4fbUtsU"
      },
      "source": [
        "# TD 3 :"
      ]
    },
    {
      "cell_type": "markdown",
      "metadata": {
        "id": "Ijtq9HAmUtsW"
      },
      "source": [
        "exo 1 :"
      ]
    },
    {
      "cell_type": "code",
      "metadata": {
        "id": "gnAtTfRsUtsX",
        "outputId": "2001545c-d819-42cd-8d9c-d5864be5eb0a"
      },
      "source": [
        "user = int(input(\"Entrer un nombre à multiplier : \"))\n",
        "for x in range(1,6):\n",
        "    print(user*x)"
      ],
      "execution_count": null,
      "outputs": [
        {
          "output_type": "stream",
          "text": [
            "Entrer un nombre à multiplier : 5\n",
            "5\n",
            "10\n",
            "15\n",
            "20\n",
            "25\n"
          ],
          "name": "stdout"
        }
      ]
    },
    {
      "cell_type": "code",
      "metadata": {
        "id": "kE8Xux5ZUtsZ",
        "outputId": "96769d54-3594-49d3-ccae-61a354756741"
      },
      "source": [
        "user = int(input(\"Entrer un nombre à multiplier : \"))\n",
        "for x in range(1, 11):\n",
        "    print(user*x, end=\" \")"
      ],
      "execution_count": null,
      "outputs": [
        {
          "output_type": "stream",
          "text": [
            "Entrer un nombre à multiplier : 5\n",
            "5 10 15 20 25 30 35 40 45 50 "
          ],
          "name": "stdout"
        }
      ]
    },
    {
      "cell_type": "code",
      "metadata": {
        "id": "6bvX_nHeUtsd",
        "outputId": "3da326df-417a-45b1-fc6d-19e000fdcff2"
      },
      "source": [
        "user = int(input(\"Veuillez entrer le nombre table que vous souhaitez visualisé : \"))\n",
        "for x in range(user):\n",
        "    print(\"Table de\", int(x) + 1, \":\")\n",
        "    for i in range(1, 11):\n",
        "        print((x+1)*i,)"
      ],
      "execution_count": null,
      "outputs": [
        {
          "output_type": "stream",
          "text": [
            "Veuillez entrer le nombre table que vous souhaitez visualisé : 2\n",
            "Table de 1 :\n",
            "1\n",
            "2\n",
            "3\n",
            "4\n",
            "5\n",
            "6\n",
            "7\n",
            "8\n",
            "9\n",
            "10\n",
            "Table de 2 :\n",
            "2\n",
            "4\n",
            "6\n",
            "8\n",
            "10\n",
            "12\n",
            "14\n",
            "16\n",
            "18\n",
            "20\n"
          ],
          "name": "stdout"
        }
      ]
    },
    {
      "cell_type": "code",
      "metadata": {
        "id": "vHGS7BpPUtss",
        "outputId": "02a8a868-69b9-4244-ae9c-236664359593"
      },
      "source": [
        "user = int(input(\"Veuillez entrer le nombre d'asterisk à afficher : \"))\n",
        "for x in range(user):\n",
        "    print(\" * \" * (x+1))"
      ],
      "execution_count": null,
      "outputs": [
        {
          "output_type": "stream",
          "text": [
            "Veuillez entrer le nombre d'asterisk à afficher : 5\n",
            " * \n",
            " *  * \n",
            " *  *  * \n",
            " *  *  *  * \n",
            " *  *  *  *  * \n"
          ],
          "name": "stdout"
        }
      ]
    },
    {
      "cell_type": "code",
      "metadata": {
        "id": "eYNXqRgWUtsy",
        "outputId": "62e2b373-1b32-48c6-dbba-c77235d10223"
      },
      "source": [
        "user = int(input(\"Entrer un nombre à afficher en asterisk : \"))\n",
        "for x in range(user):\n",
        "    print(\" \" * ((user-1)-x) + (\"* \" * (x+1)))"
      ],
      "execution_count": null,
      "outputs": [
        {
          "output_type": "stream",
          "text": [
            "Entrer un nombre à afficher en asterisk : 5\n",
            "    * \n",
            "   * * \n",
            "  * * * \n",
            " * * * * \n",
            "* * * * * \n"
          ],
          "name": "stdout"
        }
      ]
    },
    {
      "cell_type": "markdown",
      "metadata": {
        "id": "rYbyUtVAUts0"
      },
      "source": [
        "exo 2 :"
      ]
    },
    {
      "cell_type": "code",
      "metadata": {
        "id": "7Rgki0YvUts0",
        "outputId": "98de5b9f-8b39-4abd-ff7d-5fe7de7be2a0"
      },
      "source": [
        "jours = [31, 28, 31, 30, 31, 30, 31, 31, 30, 31, 30, 31]\n",
        "mois = [\"Janvier\", \"Février\", \"Mars\", \"Avril\", \"Mai\", \"Juin\", \"Juillet\", \"Août\", \"Septembre\", \"Octobre\", \"Novembre\", \"Décembre\"]\n",
        "moisjours = []\n",
        "for x in range(len(jours)):\n",
        "    moisjours.append((mois[x], jours[x]))\n",
        "\n",
        "print (moisjours)"
      ],
      "execution_count": null,
      "outputs": [
        {
          "output_type": "stream",
          "text": [
            "[('Janvier', 31), ('Février', 28), ('Mars', 31), ('Avril', 30), ('Mai', 31), ('Juin', 30), ('Juillet', 31), ('Août', 31), ('Septembre', 30), ('Octobre', 31), ('Novembre', 30), ('Décembre', 31)]\n"
          ],
          "name": "stdout"
        }
      ]
    },
    {
      "cell_type": "code",
      "metadata": {
        "id": "NgNMFUDNUts2"
      },
      "source": [
        "annee = []\n",
        "for month in moisjours:\n",
        "    for x in range(month[1]):\n",
        "        annee.append((str(x+1)) + \" \" + month[0])\n",
        "#print (annee)\n"
      ],
      "execution_count": null,
      "outputs": []
    },
    {
      "cell_type": "code",
      "metadata": {
        "id": "QlrA52ctUts2"
      },
      "source": [
        "jours_de_la_semaine = [\"Lundi\", \"Mardi\", \"Mercredi\", \"Jeudi\", \"Vendrdi\", \"Samedi\", \"Dimanche\"]\n",
        "for jour in range(365):\n",
        "    annee.append(jours_de_la_semaine[jour%len(jours_de_la_semaine)] + \" \" + annee[jour])\n",
        "#print (annee)"
      ],
      "execution_count": null,
      "outputs": []
    },
    {
      "cell_type": "markdown",
      "metadata": {
        "id": "fT_HOmb-Uts4"
      },
      "source": [
        "exo 3 :"
      ]
    },
    {
      "cell_type": "code",
      "metadata": {
        "id": "jKmMFgwQUts5",
        "outputId": "8149af4a-a950-4ccc-b085-f5114f5fc4cc"
      },
      "source": [
        "relevee_notes = []\n",
        "while len(relevee_notes) < 3:\n",
        "    compteur_de_notes = 0\n",
        "    utilisateur = float(input(\"Veuillez entrer la note : \"))\n",
        "    relevee_notes.append(utilisateur)\n",
        "\n",
        "minimum = min(relevee_notes)\n",
        "maximum = max(relevee_notes)\n",
        "somme = 0\n",
        "\n",
        "for notes in relevee_notes:\n",
        "    somme += float(notes)\n",
        "moyenne = (somme/len(relevee_notes))\n",
        "\n",
        "print(\"moyenne générale : \" + str(moyenne), \"| minimum : \" + str(minimum), \"| maximum : \" + str(maximum))"
      ],
      "execution_count": null,
      "outputs": [
        {
          "output_type": "stream",
          "text": [
            "Veuillez entrer la note : 5\n",
            "Veuillez entrer la note : 15\n",
            "Veuillez entrer la note : 20\n",
            "moyenne générale : 13.333333333333334 | minimum : 5.0 | maximum : 20.0\n"
          ],
          "name": "stdout"
        }
      ]
    },
    {
      "cell_type": "code",
      "metadata": {
        "id": "pwUK1UhXUts6",
        "outputId": "252246c7-f531-44b8-a5af-345e8e9530f5"
      },
      "source": [
        "nb_de_note= int(input(\"Veuillez entrer le nombre de notes que vous voulez saisir ? \"))\n",
        "\n",
        "while len(relevee_notes) < nb_de_note:\n",
        "    utilisateur = int(input(\"Veuillez entrer une note : \"))\n",
        "    relevee_notes.append(utilisateur)\n",
        "    \n",
        "minimum = min(relevee_notes)\n",
        "maximum = max(relevee_notes)\n",
        "somme = 0\n",
        "\n",
        "for notes in relevee_notes:\n",
        "    somme += int(notes)\n",
        "    \n",
        "moyenne = (somme / len(relevee_notes))\n",
        "\n",
        "print(\"moyenne \" + str(moyenne), \"minimum \" + str(minimum), \"maximum \" + str(maximum))"
      ],
      "execution_count": null,
      "outputs": [
        {
          "output_type": "stream",
          "text": [
            "Veuillez entrer le nombre de notes que vous voulez saisir ? 15\n",
            "Veuillez entrer une note : 15\n",
            "Veuillez entrer une note : 15\n",
            "Veuillez entrer une note : 15\n",
            "Veuillez entrer une note : 15\n",
            "Veuillez entrer une note : 15\n",
            "Veuillez entrer une note : 15\n",
            "Veuillez entrer une note : 15\n",
            "Veuillez entrer une note : 15\n",
            "Veuillez entrer une note : 15\n",
            "Veuillez entrer une note : 15\n",
            "Veuillez entrer une note : 15\n",
            "Veuillez entrer une note : 15\n",
            "moyenne 14.666666666666666 minimum 5.0 maximum 20.0\n"
          ],
          "name": "stdout"
        }
      ]
    },
    {
      "cell_type": "code",
      "metadata": {
        "id": "f6rq-ktBUts7",
        "outputId": "5399a49e-63be-4577-c2cf-a1ce9d7205bb"
      },
      "source": [
        "while True:\n",
        "    utilisateur = input(\"Entrer une note : (fin pour finir) \")\n",
        "    if utilisateur == \"fin\":\n",
        "        break\n",
        "    else:\n",
        "        relevee_notes.append(float(utilisateur))\n",
        "        minimum = min(relevee_notes)\n",
        "        maximum = max(relevee_notes)\n",
        "        somme = 0\n",
        "        for notes in relevee_notes:\n",
        "            somme += int(notes)\n",
        "        moyenne = (somme / len(relevee_notes))\n",
        "\n",
        "print(\"moyenne \" + str(moyenne), \"minimum \" + str(minimum), \"maximum \" + str(maximum))\n"
      ],
      "execution_count": null,
      "outputs": [
        {
          "output_type": "stream",
          "text": [
            "Entrer une note : (fin pour finir) 15\n",
            "Entrer une note : (fin pour finir) 15\n",
            "Entrer une note : (fin pour finir) 15\n",
            "Entrer une note : (fin pour finir) 15\n",
            "Entrer une note : (fin pour finir) 15\n",
            "Entrer une note : (fin pour finir) fin\n",
            "moyenne 14.75 minimum 5.0 maximum 20.0\n"
          ],
          "name": "stdout"
        }
      ]
    },
    {
      "cell_type": "markdown",
      "metadata": {
        "id": "6_TrDUdqUts8"
      },
      "source": [
        "exo 4 :"
      ]
    },
    {
      "cell_type": "code",
      "metadata": {
        "colab": {
          "base_uri": "https://localhost:8080/"
        },
        "id": "xMj_vSHkoXkV",
        "outputId": "1016aa7c-9e91-4488-ac30-7bfd3c9dcd08"
      },
      "source": [
        "from random import *;\r\n",
        "def justeprix():\r\n",
        "    juste_prix = randint(1,100)\r\n",
        "    correct = False\r\n",
        "    while not correct:\r\n",
        "        saisi_utilisateur = int(input(\"Bienveue au Juste prix, Devine maintemant le prix exact entre 1 et 100 \"))\r\n",
        "        if juste_prix > saisi_utilisateur:\r\n",
        "            print(\"Plus grand\")\r\n",
        "        elif juste_prix < saisi_utilisateur:\r\n",
        "            print(\"Plus petit\")\r\n",
        "        elif juste_prix == saisi_utilisateur:\r\n",
        "            break\r\n",
        "\r\n",
        "    if juste_prix == saisi_utilisateur:\r\n",
        "        rejouer = input (\"Bravo c'est gagné, voulez-vous rejouer ? (y or n) \")\r\n",
        "        if rejouer == 'y':\r\n",
        "            justeprix()\r\n",
        "justeprix()"
      ],
      "execution_count": null,
      "outputs": [
        {
          "output_type": "stream",
          "text": [
            "Bienveue au Juste prix, Devine maintemant le prix exact entre 1 et 100 45\n",
            "Plus grand\n",
            "Bienveue au Juste prix, Devine maintemant le prix exact entre 1 et 100 49\n",
            "Plus grand\n",
            "Bienveue au Juste prix, Devine maintemant le prix exact entre 1 et 100 58\n",
            "Plus grand\n",
            "Bienveue au Juste prix, Devine maintemant le prix exact entre 1 et 100 70\n",
            "Plus grand\n",
            "Bienveue au Juste prix, Devine maintemant le prix exact entre 1 et 100 80\n",
            "Plus grand\n",
            "Bienveue au Juste prix, Devine maintemant le prix exact entre 1 et 100 90\n",
            "Plus grand\n",
            "Bienveue au Juste prix, Devine maintemant le prix exact entre 1 et 100 10\n",
            "Plus grand\n",
            "Bienveue au Juste prix, Devine maintemant le prix exact entre 1 et 100 100\n",
            "Plus petit\n",
            "Bienveue au Juste prix, Devine maintemant le prix exact entre 1 et 100 99\n",
            "Bravo c'est gagné, voulez-vous rejouer ? (y or n) n\n"
          ],
          "name": "stdout"
        }
      ]
    },
    {
      "cell_type": "markdown",
      "metadata": {
        "id": "HlILrkZfsJXE"
      },
      "source": [
        "# #___________________________________________________________"
      ]
    },
    {
      "cell_type": "markdown",
      "metadata": {
        "id": "7-XQ4Cpxr9Ld"
      },
      "source": [
        "# TD 4 :"
      ]
    },
    {
      "cell_type": "markdown",
      "metadata": {
        "id": "6KW_RVs4uXgp"
      },
      "source": [
        "exo 1 (1)"
      ]
    },
    {
      "cell_type": "code",
      "metadata": {
        "colab": {
          "base_uri": "https://localhost:8080/",
          "height": 54
        },
        "id": "JK2n6SDnsQ__",
        "outputId": "975dd9b1-d415-4a81-98dd-da7e3c7616e5"
      },
      "source": [
        "from math import *;\r\n",
        "\r\n",
        "def surface_cercle(r):         #variable r pour le rayon\r\n",
        "    resultat_cercle = pi * (r ** 2)\r\n",
        "    return str(resultat_cercle)\r\n",
        "\r\n",
        "r = float(input(\"saisissez le rayon :\"))\r\n",
        "surface_cercle(r)\r\n",
        "\r\n"
      ],
      "execution_count": null,
      "outputs": [
        {
          "output_type": "stream",
          "text": [
            "saisissez le rayon :1\n"
          ],
          "name": "stdout"
        },
        {
          "output_type": "execute_result",
          "data": {
            "application/vnd.google.colaboratory.intrinsic+json": {
              "type": "string"
            },
            "text/plain": [
              "'3.141592653589793'"
            ]
          },
          "metadata": {
            "tags": []
          },
          "execution_count": 4
        }
      ]
    },
    {
      "cell_type": "markdown",
      "metadata": {
        "id": "2W4xRE2K_rL2"
      },
      "source": [
        "exo 1 (2)"
      ]
    },
    {
      "cell_type": "code",
      "metadata": {
        "id": "S-zfws75_txF",
        "colab": {
          "base_uri": "https://localhost:8080/"
        },
        "outputId": "555c3c38-b629-411e-92c6-7a7a51a12c5c"
      },
      "source": [
        "def surface_cercle2(r=1):\r\n",
        "    return pi * ( r * 2 )\r\n",
        "\r\n",
        "surface_cercle2()"
      ],
      "execution_count": null,
      "outputs": [
        {
          "output_type": "execute_result",
          "data": {
            "text/plain": [
              "6.283185307179586"
            ]
          },
          "metadata": {
            "tags": []
          },
          "execution_count": 21
        }
      ]
    },
    {
      "cell_type": "markdown",
      "metadata": {
        "id": "7vZxLsgA3hRb"
      },
      "source": [
        "exo 1 (3)"
      ]
    },
    {
      "cell_type": "code",
      "metadata": {
        "colab": {
          "base_uri": "https://localhost:8080/"
        },
        "id": "dzJMxVQW4C8y",
        "outputId": "9569363b-dea4-4887-e29d-df6c021576dc"
      },
      "source": [
        "def vol_boite(L,l,h): #fonction volume boite (recup les variables Llh)\r\n",
        "    return L*l*h\r\n",
        "\r\n",
        "h=float(input(\"entrer la hauteur de votre boite :\")) #hauteur\r\n",
        "L=float(input(\"entrer la Longueur de votre boite :\")) #Longueur\r\n",
        "l=float(input(\"entrer la largueur de votre boite :\")) #largueur\r\n",
        "vol_boite(L,h,l) #appel de la fonction volume boite"
      ],
      "execution_count": null,
      "outputs": [
        {
          "output_type": "stream",
          "text": [
            "entrer la hauteur de votre boite :5\n",
            "entrer la Longueur de votre boite :4\n",
            "entrer la largueur de votre boite :2\n"
          ],
          "name": "stdout"
        },
        {
          "output_type": "execute_result",
          "data": {
            "text/plain": [
              "40.0"
            ]
          },
          "metadata": {
            "tags": []
          },
          "execution_count": 7
        }
      ]
    },
    {
      "cell_type": "markdown",
      "metadata": {
        "id": "vbg-ePk33hn-"
      },
      "source": [
        "exo 1 (4)\r\n"
      ]
    },
    {
      "cell_type": "code",
      "metadata": {
        "id": "PPel3hFh3q0G",
        "colab": {
          "base_uri": "https://localhost:8080/"
        },
        "outputId": "4a199989-8c6e-456e-b2e4-ac263f7193c9"
      },
      "source": [
        "def vol_boite_2(*args):\r\n",
        "\r\n",
        "    if len(args) == 1:                   #si nb de argument = 1 , alors la boite est carré // valeur au cube \r\n",
        "        valeur = args[0] ** 3\r\n",
        "        return valeur\r\n",
        "\r\n",
        "    elif len(args) == 2:                 #si nb de argument = 2 , \r\n",
        "        valeur = 1\r\n",
        "        for num in args:\r\n",
        "            valeur *= num\r\n",
        "        return valeur\r\n",
        "\r\n",
        "    elif len(args) == 3:                 #si nb de argument = 3 ,\r\n",
        "        valeur = 1\r\n",
        "        for num in args:\r\n",
        "            valeur *= num\r\n",
        "        return valeur\r\n",
        "\r\n",
        "\r\n",
        "print (vol_boite_2(5))\r\n",
        "print (vol_boite_2(5, 2))\r\n",
        "print (vol_boite_2(5, 2, 3))"
      ],
      "execution_count": null,
      "outputs": [
        {
          "output_type": "stream",
          "text": [
            "125\n",
            "10\n",
            "30\n"
          ],
          "name": "stdout"
        }
      ]
    },
    {
      "cell_type": "markdown",
      "metadata": {
        "id": "PxlqM-jU7wFD"
      },
      "source": [
        "exo 1 (5)"
      ]
    },
    {
      "cell_type": "code",
      "metadata": {
        "id": "WXMN2ElT7vH4",
        "colab": {
          "base_uri": "https://localhost:8080/",
          "height": 36
        },
        "outputId": "704fec80-c7fc-456b-f9eb-0e3c8dc43f62"
      },
      "source": [
        "def remplacement(c1=\"e\",c2=\"a\",ch=\"permettre\"):\r\n",
        "    return ch.replace(c1,c2)\r\n",
        "\r\n",
        "remplacement()"
      ],
      "execution_count": null,
      "outputs": [
        {
          "output_type": "execute_result",
          "data": {
            "application/vnd.google.colaboratory.intrinsic+json": {
              "type": "string"
            },
            "text/plain": [
              "'parmattra'"
            ]
          },
          "metadata": {
            "tags": []
          },
          "execution_count": 22
        }
      ]
    },
    {
      "cell_type": "markdown",
      "metadata": {
        "id": "TltzjrEA_hhX"
      },
      "source": [
        "exo 1 (6)"
      ]
    },
    {
      "cell_type": "code",
      "metadata": {
        "colab": {
          "base_uri": "https://localhost:8080/",
          "height": 36
        },
        "id": "XSKOMf-PVH5R",
        "outputId": "298baaa4-e29d-4813-c0aa-c542bdc21f3b"
      },
      "source": [
        "def remplacement2(c1=\" \",c2=\"*\",ch=\"          \"):\r\n",
        "    return ch.replace(c1,c2)\r\n",
        "remplacement2()"
      ],
      "execution_count": null,
      "outputs": [
        {
          "output_type": "execute_result",
          "data": {
            "application/vnd.google.colaboratory.intrinsic+json": {
              "type": "string"
            },
            "text/plain": [
              "'**********'"
            ]
          },
          "metadata": {
            "tags": []
          },
          "execution_count": 20
        }
      ]
    },
    {
      "cell_type": "markdown",
      "metadata": {
        "id": "sDqhzGggdDLG"
      },
      "source": [
        "ex 2 : "
      ]
    },
    {
      "cell_type": "code",
      "metadata": {
        "colab": {
          "base_uri": "https://localhost:8080/"
        },
        "id": "fKWLtLhxdDqF",
        "outputId": "9f191644-38ed-4dd2-b747-dc8caf8138f6"
      },
      "source": [
        "def nb_char(chaine):\r\n",
        "    compteur = 0\r\n",
        "    for lettre in chaine:\r\n",
        "        compteur += 1\r\n",
        "    return compteur\r\n",
        "\r\n",
        "\r\n",
        "print(nb_char(chaine=\"je test ce code 1 2 !! test 1 2 !!\"))\r\n",
        "\r\n",
        "def nb_mots(chaine):\r\n",
        "    mots = len(chaine.split())\r\n",
        "    return mots\r\n",
        "\r\n",
        "\r\n",
        "print(nb_mots(chaine=\"je test ce code 1 2 !! test 1 2 !!\"))\r\n"
      ],
      "execution_count": null,
      "outputs": [
        {
          "output_type": "stream",
          "text": [
            "34\n",
            "11\n"
          ],
          "name": "stdout"
        }
      ]
    },
    {
      "cell_type": "markdown",
      "metadata": {
        "id": "bEzIFeJxdD6W"
      },
      "source": [
        "exo 3 (1) :"
      ]
    },
    {
      "cell_type": "code",
      "metadata": {
        "id": "3DyY2_KRdEHl"
      },
      "source": [
        "def table_mult(n, debut=1, fin=10):\r\n",
        "    for i in range(debut, fin + 1):\r\n",
        "        print(n * i)\r\n",
        "\r\n",
        "\r\n",
        "table_mult(5, 1 , 20)\r\n"
      ],
      "execution_count": null,
      "outputs": []
    },
    {
      "cell_type": "markdown",
      "metadata": {
        "id": "vb9ePr4Semu9"
      },
      "source": [
        "exo 3 (2) :"
      ]
    },
    {
      "cell_type": "code",
      "metadata": {
        "id": "b70O5IOYem5V"
      },
      "source": [
        "def table_mult_2(n, debut=1, fin=10):\r\n",
        "    liste = []\r\n",
        "    if debut > fin:\r\n",
        "        for i in range(fin, debut + 1):\r\n",
        "            liste.append(n * i)\r\n",
        "        liste.reverse()\r\n",
        "        print(liste)\r\n",
        "    else:\r\n",
        "        for i in range(debut, fin + 1):\r\n",
        "            liste.append(n * i)\r\n",
        "        print(liste)\r\n",
        "\r\n",
        "\r\n",
        "table_mult_2(5, 10 , 1)"
      ],
      "execution_count": null,
      "outputs": []
    },
    {
      "cell_type": "markdown",
      "metadata": {
        "id": "jQI7TBs2enAq"
      },
      "source": [
        "exo 3 (3) :"
      ]
    },
    {
      "cell_type": "code",
      "metadata": {
        "id": "RweZvL2genII",
        "colab": {
          "base_uri": "https://localhost:8080/"
        },
        "outputId": "e09f1f0e-47d7-4e57-c231-81f52c5cdd95"
      },
      "source": [
        "def table_mult_3():\r\n",
        "    Valeur = []\r\n",
        "    liste = []\r\n",
        "    n = int(input(\"Entrer un nombre \"))\r\n",
        "    debut = int(input(\"Entrer un nombre de debut \"))\r\n",
        "    fin = int(input(\"Entrer un nombre de fin \"))\r\n",
        "    Valeur.append((n, debut, fin))\r\n",
        "\r\n",
        "    if Valeur[0][1] > Valeur[0][2]:\r\n",
        "        for i in range(Valeur[0][2], Valeur[0][1] + 1):\r\n",
        "            liste.append(Valeur[0][0] * i)\r\n",
        "        liste.reverse()\r\n",
        "        print(liste)\r\n",
        "    else:\r\n",
        "        for i in range(Valeur[0][1], Valeur[0][2] + 1):\r\n",
        "            liste.append(Valeur[0][0] * i)\r\n",
        "        print(liste)\r\n",
        "\r\n",
        "\r\n",
        "table_mult_3()"
      ],
      "execution_count": 4,
      "outputs": [
        {
          "output_type": "stream",
          "text": [
            "Entrer n 5\n",
            "Entrer debut 1\n",
            "Entrer fin 9\n",
            "[5, 10, 15, 20, 25, 30, 35, 40, 45]\n"
          ],
          "name": "stdout"
        }
      ]
    },
    {
      "cell_type": "markdown",
      "metadata": {
        "id": "Smk6ojH3SNHE"
      },
      "source": [
        "exo 4 :"
      ]
    },
    {
      "cell_type": "code",
      "metadata": {
        "colab": {
          "base_uri": "https://localhost:8080/",
          "height": 371
        },
        "id": "h5eiz1oLQ3DF",
        "outputId": "8513bb74-8677-4af2-8a0d-c76418c6cdb4"
      },
      "source": [
        "def motus():\r\n",
        "    from random import randint\r\n",
        "\r\n",
        "    listemots = [\"clavier\", \"souris\", \"ordinateur\", \"ecrans\", \"tapis\", \"bureau\", \"lampe\", \"ventilateur\", \"chaise\", \"Windows\", \"Linux\", ]\r\n",
        "    nombre = randint(0, len(listemots) - 1)\r\n",
        "    mot_random = listemots[nombre]\r\n",
        "    mot = []\r\n",
        "    mot[:0] = mot_random\r\n",
        "    utilisateur = []\r\n",
        "\r\n",
        "    for x in range(len(mot)):\r\n",
        "        utilisateur.append(\"*\")\r\n",
        "\r\n",
        "    print(\" \".join(utilisateur))\r\n",
        "    \r\n",
        "    compteur = 0\r\n",
        "\r\n",
        "    while True:\r\n",
        "        compteur += 1\r\n",
        "        if compteur == 15:\r\n",
        "            break\r\n",
        "        else:\r\n",
        "            print(\"Essai numéro : \" + str(compteur))\r\n",
        "            essailettre = input(\"Veuillez entrer une lettre : \")\r\n",
        "            for i in range(len(mot)):\r\n",
        "                if essailettre == mot[i]:\r\n",
        "                    utilisateur[i] = mot[i]\r\n",
        "                    if utilisateur == mot:\r\n",
        "                        print(\" \".join(utilisateur))\r\n",
        "                        win = input(\"Bravo vous avez trouvé le mot ! Voulez-vous rejouer ? oui/non : \")\r\n",
        "                        if win == \"o\":\r\n",
        "                            motus()\r\n",
        "                        else :\r\n",
        "                            return \"fin de la partie\"\r\n",
        "                            exit()\r\n",
        "                else:\r\n",
        "                    pass\r\n",
        "            print(\" \".join(utilisateur))\r\n",
        "\r\n",
        "    rejoue = input(\"Perdu... Voulez-vous rejouer ? oui/non : \")\r\n",
        "    if rejoue == \"oui\":\r\n",
        "        motus()\r\n",
        "motus()"
      ],
      "execution_count": 3,
      "outputs": [
        {
          "output_type": "stream",
          "text": [
            "* * * * *\n",
            "Essai numéro : 1\n",
            "Veuillez entrer une lettre : c\n",
            "* * * * *\n",
            "Essai numéro : 2\n",
            "Veuillez entrer une lettre : e\n",
            "* * * * e\n",
            "Essai numéro : 3\n",
            "Veuillez entrer une lettre : l\n",
            "l * * * e\n",
            "Essai numéro : 4\n",
            "Veuillez entrer une lettre : a\n",
            "l a * * e\n",
            "Essai numéro : 5\n",
            "Veuillez entrer une lettre : m\n",
            "l a m * e\n",
            "Essai numéro : 6\n",
            "Veuillez entrer une lettre : p\n",
            "l a m p e\n",
            "Bravo vous avez trouvé le mot ! Voulez-vous rejouer ? oui/non : n\n"
          ],
          "name": "stdout"
        },
        {
          "output_type": "execute_result",
          "data": {
            "application/vnd.google.colaboratory.intrinsic+json": {
              "type": "string"
            },
            "text/plain": [
              "'fin de la partie'"
            ]
          },
          "metadata": {
            "tags": []
          },
          "execution_count": 3
        }
      ]
    },
    {
      "cell_type": "markdown",
      "metadata": {
        "id": "YqAbuu03NxBA"
      },
      "source": [
        "exo 5 :"
      ]
    },
    {
      "cell_type": "code",
      "metadata": {
        "id": "0GmcuiUcN2q4"
      },
      "source": [
        "#je n'ai pas réussi à faire quelque chose de fonctionnel "
      ],
      "execution_count": 5,
      "outputs": []
    }
  ]
}